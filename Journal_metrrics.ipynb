{
 "cells": [
  {
   "cell_type": "markdown",
   "id": "396395dd",
   "metadata": {},
   "source": [
    "# **PRE_ASSESSMENT**\n",
    "Assess your understanding of journal impact metrics before the lesson.\n",
    "\n",
    "Aplicable objects: Student has participated in the Scientific Communication course."
   ]
  },
  {
   "cell_type": "markdown",
   "id": "3a75647a",
   "metadata": {},
   "source": []
  },
  {
   "cell_type": "markdown",
   "id": "2c9dd4b7",
   "metadata": {},
   "source": [
    "------------------------------------------------------------------------------------------"
   ]
  },
  {
   "cell_type": "markdown",
   "id": "d9a2479b",
   "metadata": {},
   "source": [
    "# CASE STUDY: Journal Impact Metrics"
   ]
  },
  {
   "cell_type": "markdown",
   "id": "3df6880f",
   "metadata": {},
   "source": [
    "**List of Journal and their Impact Factors:**\n",
    "\n",
    "*www.scimagojr.com/journalrank.php*\n"
   ]
  },
  {
   "cell_type": "markdown",
   "id": "5edb53dd",
   "metadata": {},
   "source": [
    "## **Level of Research Impact**"
   ]
  },
  {
   "cell_type": "markdown",
   "id": "a12118d4",
   "metadata": {},
   "source": [
    "------------------------------------------------------------------------------------------"
   ]
  },
  {
   "cell_type": "markdown",
   "id": "a6ef0ac1",
   "metadata": {},
   "source": [
    "# **Journal Metrics Overview**\n",
    "\n",
    "Journal metrics help evaluate the influence, impact, and prestige of scientific journals.\n",
    "\n",
    "Common metrics: Impact Factor, Quartiles, CiteScore, h-index, SJR."
   ]
  },
  {
   "cell_type": "markdown",
   "id": "fb74e4b3",
   "metadata": {},
   "source": [
    "------------------------------------------------------------------------------------------"
   ]
  },
  {
   "cell_type": "markdown",
   "id": "5cab3c2e",
   "metadata": {},
   "source": [
    "## **1: Impact Factor (IF)**\n",
    "**Definition:** Average number of citations received in a year by papers published in the previous 2 years.\n",
    "\n",
    "\n",
    "**Formula:**\n",
    "$$\n",
    "IF_X = \\frac{\\text{Citations in year X to papers published in years X-1 and X-2}}{\\text{Number of papers published in years X-1 and X-2}}\n",
    "$$\n",
    "\n",
    "\n",
    "**Source:** Journal Citation Reports (Clarivate).\n",
    "\n",
    "**Usage:** Indicates citation frequency of recent papers.\n",
    "\n",
    "**Limitation:** Varies by discipline."
   ]
  },
  {
   "cell_type": "markdown",
   "id": "d849f5da",
   "metadata": {},
   "source": [
    "------------------------------------------------------------------------------------------"
   ]
  },
  {
   "cell_type": "markdown",
   "id": "38394da0",
   "metadata": {},
   "source": [
    "**Example:**  \n",
    "- In 2024, Journal A received:  \n",
    "  - 500 citations to articles published in 2022  \n",
    "  - 300 citations to articles published in 2023  \n",
    "- Total articles published in 2022–2023 = 200  \n",
    "\n",
    "**Formula:**  \n",
    "$$\n",
    "IF_{2024} = \\frac{500 + 300}{200} = \\frac{800}{200} = 4.0\n",
    "$$  \n",
    "\n",
    "**Practice Question:**  \n",
    "Journal B received 600 citations in 2024 to 2022–2023 articles.  \n",
    "It published 150 articles in 2022–2023.  \n",
    "👉 What is the **Impact Factor 2024** of Journal B?"
   ]
  },
  {
   "cell_type": "markdown",
   "id": "9cd172aa",
   "metadata": {},
   "source": [
    "------------------------------------------------------------------------------------------"
   ]
  },
  {
   "cell_type": "markdown",
   "id": "36e9ca7e",
   "metadata": {},
   "source": [
    "## **2: Quartiles (Q1–Q4)**\n",
    "**Definition:** Journals ranked into four groups within their subject category.\n",
    "- **Q1:** Top 25% (most prestigious)\n",
    "- **Q2:** 25–50%\n",
    "- **Q3:** 50–75%\n",
    "- **Q4:** Bottom 25%"
   ]
  },
  {
   "cell_type": "markdown",
   "id": "050bfd97",
   "metadata": {},
   "source": [
    "------------------------------------------------------------------------------------------"
   ]
  },
  {
   "cell_type": "markdown",
   "id": "fa56d33e",
   "metadata": {},
   "source": [
    "**Example:**  \n",
    "In the category *Biotechnology*, there are 100 journals ranked by IF:  \n",
    "- Journal A is ranked **10th** → Top 10% → **Q1**  \n",
    "- Journal B is ranked **70th** → In the 70% range → **Q3**  \n",
    "\n",
    "**Practice Question:**  \n",
    "If Journal C is ranked **30th** out of 120 journals in its field,  \n",
    "👉 Which **Quartile (Q1–Q4)** does it belong to?"
   ]
  },
  {
   "cell_type": "markdown",
   "id": "6f162b85",
   "metadata": {},
   "source": [
    "------------------------------------------------------------------------------------------"
   ]
  },
  {
   "cell_type": "markdown",
   "id": "5718f5ed",
   "metadata": {},
   "source": [
    "# **3: CiteScore**\n",
    "**Definition:** Average citations received per paper over a 4-year period.\n",
    "\n",
    "\n",
    "**Formula:**\n",
    "$$\n",
    "CiteScore_X = \\frac{\\text{Citations in years X-3 \\ldots X}}{\\text{Documents published in years X-3 \\ldots X}}\n",
    "$$\n",
    "\n",
    "\n",
    "**Source:** Scopus (Elsevier).\n",
    "**Usage:** Provides a broader and more stable measure than Impact Factor."
   ]
  },
  {
   "cell_type": "markdown",
   "id": "6c4c67b5",
   "metadata": {},
   "source": [
    "------------------------------------------------------------------------------------------"
   ]
  },
  {
   "cell_type": "markdown",
   "id": "db22eb4a",
   "metadata": {},
   "source": [
    "**Example:**  \n",
    "Journal A (2020–2023):  \n",
    "- Total documents published = 400  \n",
    "- Total citations (to those docs) = 1600  \n",
    "\n",
    "**Formula:**  \n",
    "$$\n",
    "CiteScore_{2023} = \\frac{1600}{400} = 4.0\n",
    "$$  \n",
    "\n",
    "**Practice Question:**  \n",
    "Journal B published 300 papers (2020–2023) and got 900 citations.  \n",
    "👉 What is its **CiteScore 2023**?"
   ]
  },
  {
   "cell_type": "markdown",
   "id": "cd4c6251",
   "metadata": {},
   "source": [
    "------------------------------------------------------------------------------------------"
   ]
  },
  {
   "cell_type": "markdown",
   "id": "7cfd56c4",
   "metadata": {},
   "source": [
    "## **4: h-index (for Journals)**\n",
    "**Definition:** A journal has h-index = h if it has h papers each cited at least h times.\n",
    "\n",
    "\n",
    "**Formula:**\n",
    "$$\n",
    "\\text{h-index} = h \\quad \\text{if at least } h \\text{ papers have } \\geq h \\text{ citations each}\n",
    "$$\n",
    "\n",
    "\n",
    "**Example:** h = 120 → 120 papers cited ≥ 120 times.\n",
    "**Usage:** Reflects productivity + impact.\n",
    "**Limitation:** Favors older journals with more time to accumulate citations."
   ]
  },
  {
   "cell_type": "markdown",
   "id": "f7657d3a",
   "metadata": {},
   "source": [
    "------------------------------------------------------------------------------------------"
   ]
  },
  {
   "cell_type": "markdown",
   "id": "6834259a",
   "metadata": {},
   "source": [
    "**Example:**  \n",
    "Citation counts of 8 papers: [100, 90, 80, 40, 30, 10, 5, 2]  \n",
    "\n",
    "- 5 papers have ≥ 5 citations ✅  \n",
    "- 6 papers have ≥ 6 citations ✅  \n",
    "- 7 papers have ≥ 7 citations ❌ (only 6 papers reach this)  \n",
    "\n",
    "So,  \n",
    "$$\n",
    "h\\text{-index} = 6\n",
    "$$  \n",
    "\n",
    "**Practice Question:**  \n",
    "Citation counts for 6 papers: [50, 25, 20, 15, 5, 3]  \n",
    "👉 What is its **h-index**?"
   ]
  },
  {
   "cell_type": "markdown",
   "id": "a266511a",
   "metadata": {},
   "source": [
    "------------------------------------------------------------------------------------------"
   ]
  },
  {
   "cell_type": "markdown",
   "id": "22259709",
   "metadata": {},
   "source": [
    "## **5: SJR (SCImago Journal Rank)**\n",
    "**Definition:** Prestige metric that considers both citations received and the importance of citing journals.\n",
    "\n",
    "\n",
    "**Source:** SCImago, using Scopus data.\n",
    "**Key Feature:** Citations from highly-ranked journals carry more weight.\n",
    "**Usage:** Evaluates both quantity and quality of citations."
   ]
  },
  {
   "cell_type": "markdown",
   "id": "f76c83a8",
   "metadata": {},
   "source": [
    "------------------------------------------------------------------------------------------"
   ]
  },
  {
   "cell_type": "markdown",
   "id": "f86f80a5",
   "metadata": {},
   "source": [
    "**Example:**  \n",
    "- Journal A: 200 citations, mostly from **Q1 journals** → higher SJR  \n",
    "- Journal B: 200 citations, mostly from **Q4 journals** → lower SJR  \n",
    "\n",
    "**Practice Question:**  \n",
    "If two journals both have 500 citations, but:  \n",
    "- Journal X is cited mostly by **Q1 journals**  \n",
    "- Journal Y is cited mostly by **Q4 journals**  \n",
    "\n",
    "👉 Which journal has the **higher SJR**?"
   ]
  },
  {
   "cell_type": "markdown",
   "id": "6990454c",
   "metadata": {},
   "source": [
    "------------------------------------------------------------------------------------------"
   ]
  },
  {
   "cell_type": "markdown",
   "id": "fda1c346",
   "metadata": {},
   "source": [
    "# **Summary Table**\n",
    "| Metric | Source | Time Window | Measures |\n",
    "|---------------|---------------------|------------------|---------------------------------|\n",
    "| Impact Factor | Clarivate (JCR) | 2 years | Average citations per paper |\n",
    "| Quartiles | IF / CiteScore rank | — | Journal rank in field (Q1–Q4) |\n",
    "| CiteScore | Scopus (Elsevier) | 4 years | Average citations per paper |\n",
    "| h-index | Scopus/Scholar | Lifetime | Quantity + citations |\n",
    "| SJR | Scopus (SCImago) | 3 years (weighted)| Prestige-weighted citations |"
   ]
  },
  {
   "cell_type": "markdown",
   "id": "6c31d465",
   "metadata": {},
   "source": [
    "------------------------------------------------------------------------------------------"
   ]
  },
  {
   "cell_type": "markdown",
   "id": "76063773",
   "metadata": {},
   "source": [
    "## END!"
   ]
  }
 ],
 "metadata": {
  "kernelspec": {
   "display_name": "danpham_env",
   "language": "python",
   "name": "python3"
  },
  "language_info": {
   "name": "python",
   "version": "3.13.5"
  }
 },
 "nbformat": 4,
 "nbformat_minor": 5
}
