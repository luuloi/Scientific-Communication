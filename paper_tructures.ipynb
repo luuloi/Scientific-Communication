{
 "cells": [
  {
   "cell_type": "markdown",
   "id": "b502f89c",
   "metadata": {},
   "source": [
    "# **📑 Structure of a Scientific Research Article**"
   ]
  },
  {
   "cell_type": "markdown",
   "id": "f35e8f6e",
   "metadata": {},
   "source": [
    "## **1. Introduction to IMRaD**\n",
    "- **IMRaD** = **Introduction, Methods, Results, and Discussion**  \n",
    "- Standard structure for most scientific research papers\\\n",
    "![IMRaD](images/IMRaD/imrad.PNG)\n",
    "- **Purpose of each section:**\n",
    "\n",
    "  - **Introduction** – explains background, research question, and objectives\\\n",
    "![ITRODUCTION](images/IMRaD/introduction.PNG)\n",
    "  - **Methods** – describes how the study was conducted (reproducibility)\\\n",
    "![METHOD](images/IMRaD/method.PNG)\n",
    "  - **Results** – presents findings with figures/tables\\\n",
    "![RESULTS](images/IMRaD/results.PNG)\n",
    "  - **Discussion** – interprets findings, compares with literature, discusses limitations and implications\\\n",
    "![DISCUSSION](images/IMRaD/discussion.PNG)\n",
    "- **Additional sections:**\\\n",
    "![CONCLUSION](images/IMRaD/conclusion.PNG)  \n",
    "- Ensures logical flow, clarity, and easy evaluation by readers"
   ]
  },
  {
   "cell_type": "markdown",
   "id": "c9a9a015",
   "metadata": {},
   "source": [
    "## **2. Seps for selecting the article**\n",
    "![WORDS](images/IMRaD/step_select.PNG)\n",
    "\\\n",
    "![CHART](images/IMRaD/flow_select.PNG)\n",
    "\\\n",
    "**References**\n",
    "1. O’Brien, B. C., Harris, I. B., Beckman, T. J., Reed, D. A., & Cook, D. A. (2014). Standards for Reporting Qualitative Research: A Synthesis of Recommendations. Academic Medicine, 89(9), 1245–1251. https://doi.org/10.1097/ACM.0000000000000388 \n",
    "2. Côté, L., & Turgeon, J. (2005). Appraising qualitative research articles in medicine and medical education. Medical Teacher, 27(1), 71–75. https://doi.org/10.1080/01421590400016308"
   ]
  },
  {
   "cell_type": "markdown",
   "id": "12000604",
   "metadata": {},
   "source": [
    "## **3. Analyzing a Scientific Research Article Using IMRaD Structure**\n",
    "**3.1 Skimming the Article**\n",
    "- Step 1 – First-Level Skim (Quick Scan) \n",
    "\n",
    "        Title & Keywords → show topic and category. \n",
    "        Abstract → mini-version of the whole paper (Lit review, Methods, Results, Discussion). \n",
    "        => Sometimes enough for citation (especially if behind paywall). \n",
    "\n",
    "- Step 2 – Second-Level Skim (Focused Scan) \n",
    "\n",
    "        Introduction opening → research question / context. \n",
    "        Section Headings → outline of article structure. \n",
    "        Easy-to-read figures/tables → get the gist of results. \n",
    "        Discussion/Conclusion → main findings and implications. \n",
    "\n",
    "- Step 3 – Deep Reading (Full Study) \n",
    "\n",
    "        Only for core / anchor articles (directly support or challenge your paper). \n",
    "        Read entire paper carefully (methods, terms, details). \n",
    "        Use when building your argument or replicating study.\n",
    "**3.2 Citing the Article**\n",
    "![IMAGE](images/IMRaD/citation_fields.PNG)\n",
    "\n",
    "**APA citation style is commonly used in scientific writing.**\n",
    "\n",
    "![IMAGE](images/IMRaD/APA_style.PNG)\n",
    "\n"
   ]
  },
  {
   "cell_type": "markdown",
   "id": "cf096ef2",
   "metadata": {},
   "source": []
  },
  {
   "cell_type": "markdown",
   "id": "be1945dd",
   "metadata": {},
   "source": [
    "## 3. What Readers Focus on First\n",
    "\n",
    "When a reader starts a paper, the typical focus order is:\n",
    "\n",
    "1. **Title** – check relevance\n",
    "\n",
    "2. **Abstract** – summary of objectives, methods, results, and conclusions\n",
    "\n",
    "3. **Figures/Tables** – quick scan for key findings\n",
    "\n",
    "4. **Conclusion/Discussion** – main take-home message "
   ]
  }
 ],
 "metadata": {
  "language_info": {
   "name": "python"
  }
 },
 "nbformat": 4,
 "nbformat_minor": 5
}
