{
 "cells": [
  {
   "cell_type": "markdown",
   "id": "b502f89c",
   "metadata": {},
   "source": [
    "# **📑 Structure of a Scientific Research Article**"
   ]
  },
  {
   "cell_type": "markdown",
   "id": "f35e8f6e",
   "metadata": {},
   "source": [
    "## **1. Introduction to IMRaD**\n",
    "- **IMRaD** = **Introduction, Methods, Results, and Discussion**  \n",
    "- Standard structure for most scientific research papers\\\n",
    "![IMRaD](images/IMRaD/imrad.PNG)\n",
    "- **Purpose of each section:**\n",
    "\n",
    "  - **Introduction** – explains background, research question, and objectives\\\n",
    "![ITRODUCTION](images/IMRaD/introduction.PNG)\n",
    "  - **Methods** – describes how the study was conducted (reproducibility)\\\n",
    "![METHOD](images/IMRaD/method.PNG)\n",
    "  - **Results** – presents findings with figures/tables\\\n",
    "![RESULTS](images/IMRaD/results.PNG)\n",
    "  - **Discussion** – interprets findings, compares with literature, discusses limitations and implications\\\n",
    "![DISCUSSION](images/IMRaD/discussion.PNG)\n",
    "- **Additional sections:**\\\n",
    "![CONCLUSION](images/IMRaD/conclusion.PNG)  \n",
    "- Ensures logical flow, clarity, and easy evaluation by readers"
   ]
  },
  {
   "cell_type": "markdown",
   "id": "c9a9a015",
   "metadata": {},
   "source": [
    "## **2. Seps for selecting the article**\n",
    "![WORDS](images/IMRaD/step_select.PNG)\n",
    "\\\n",
    "![CHART](images/IMRaD/flow_select.PNG)\n",
    "\\\n",
    "**References**\n",
    "1. O’Brien, B. C., Harris, I. B., Beckman, T. J., Reed, D. A., & Cook, D. A. (2014). Standards for Reporting Qualitative Research: A Synthesis of Recommendations. Academic Medicine, 89(9), 1245–1251. https://doi.org/10.1097/ACM.0000000000000388 \n",
    "2. Côté, L., & Turgeon, J. (2005). Appraising qualitative research articles in medicine and medical education. Medical Teacher, 27(1), 71–75. https://doi.org/10.1080/01421590400016308"
   ]
  },
  {
   "cell_type": "markdown",
   "id": "12000604",
   "metadata": {},
   "source": [
    "## **3. Analyzing a Scientific Research Article Using IMRaD Structure**\n",
    "**3.1 Skimming the Article**\n",
    "- Step 1 – First-Level Skim (Quick Scan) \n",
    "\n",
    "        - Title & Keywords → show topic and category. \n",
    "        - Abstract → mini-version of the whole paper (Lit review, Methods, Results, Discussion). \n",
    "        => Sometimes enough for citation (especially if behind paywall). \n",
    "\n",
    "- Step 2 – Second-Level Skim (Focused Scan) \n",
    "\n",
    "        - Introduction opening → research question / context. \n",
    "        - Section Headings → outline of article structure. \n",
    "        - Easy-to-read figures/tables → get the gist of results. \n",
    "        - Discussion/Conclusion → main findings and implications. \n",
    "\n",
    "- Step 3 – Deep Reading (Full Study) \n",
    "\n",
    "        - Only for core / anchor articles (directly support or challenge your paper). \n",
    "        - Read entire paper carefully (methods, terms, details). \n",
    "        - Use when building your argument or replicating study.\n",
    "**3.2 Citing the Article**\n",
    "![IMAGE](images/IMRaD/citation_fields.png)\n",
    "\n",
    "**APA (American Psychological Association) citation style is commonly used in scientific writing.**\n",
    "\n",
    "        APA is a citation style developed by the American Psychological Association, most commonly used in the social sciences. An APA-style citation includes two components: \\\n",
    "        - An in-text citation within the body of your paper, whenever you quote or paraphrase another author. It includes the author's name, year of publication, and sometimes a page number. \\\n",
    "        - A reference list entry at the end of your paper. It includes full citation details so a reader can look up the source.\n",
    "        Source: https://guides.library.ualberta.ca/apa-citation-style\n",
    "[PDF: APA Citation Style QuickGuide](https://guides.library.ualberta.ca/ld.php?content_id=35043857)\n",
    "![IMAGE](images/IMRaD/APA_style.png)\n",
    "\n",
    "**CSE (Council of Science Editors) style is most commonly used in the Life Sciences.**\n",
    "\n",
    "        The CSE (Council of Science Editors) style is a scientific citation format with three different systems for in-text citations and reference lists: Name-Year, Citation-Name, and Citation-Sequence. The main difference is how sources are referenced in the text and the order of the reference list at the end of the document. All systems include an author-date or numbered reference in the text and a comprehensive reference list with source details. \n",
    "        The Three CSE Citation Systems\n",
    "        1. Name-Year (N-Y) System:\n",
    "        - In-text citation: Author's last name and year of publication (e.g., (Smith 2005)).\n",
    "        - Reference List: Arranged alphabetically by author's last name.\n",
    "\n",
    "        2. Citation-Name (C-N) System\n",
    "        - In-text citation: A superscript number (e.g., Smith et al.².\n",
    "        - Reference List: Numbered alphabetically by author's last name, with each number corresponding to a unique reference.\n",
    "\n",
    "        3. Citation-Sequence (C-S) System\n",
    "        - In-text citation: A superscript number, assigned the first time a work is cited.\n",
    "        - Reference List: Numbered sequentially according to the order in which the sources first appear in the text. \n",
    "        source: https://otago.libguides.com/c.php?g=171590&p=6833842\n",
    "[BOOK: CSE Manual 9th Edition](https://www.csemanual.org/Tools/CSE-Citation-Quick-Guide.html)\n",
    "\n",
    "![CSE](images/IMRaD/CSE-Citation.png)\n",
    "## EXAMPLE of CSE Citation-Sequence (C-S) System\n",
    "![EXAMPLE](images/IMRaD/example_CSE.png){width=900}\n",
    "\n",
    "source: http://www.sciencedirect.com/science/article/pii/S1055790316300914"
   ]
  }
 ],
 "metadata": {
  "language_info": {
   "name": "python"
  }
 },
 "nbformat": 4,
 "nbformat_minor": 5
}
